{
  "nbformat": 4,
  "nbformat_minor": 0,
  "metadata": {
    "colab": {
      "provenance": []
    },
    "kernelspec": {
      "name": "python3",
      "display_name": "Python 3"
    },
    "language_info": {
      "name": "python"
    },
    "accelerator": "GPU",
    "gpuClass": "standard"
  },
  "cells": [
    {
      "cell_type": "code",
      "execution_count": null,
      "metadata": {
        "colab": {
          "base_uri": "https://localhost:8080/"
        },
        "id": "F9V0UsnYUOYO",
        "outputId": "60539df6-1626-48aa-c6cc-c0a95ee8e990"
      },
      "outputs": [
        {
          "output_type": "stream",
          "name": "stdout",
          "text": [
            "  Building wheel for gpt-2-simple (setup.py) ... \u001b[?25l\u001b[?25hdone\n"
          ]
        }
      ],
      "source": [
        "!pip install -q gpt-2-simple\n",
        "import gpt_2_simple as gpt2\n",
        "from datetime import datetime\n",
        "from google.colab import files"
      ]
    },
    {
      "cell_type": "code",
      "source": [
        "gpt2.download_gpt2(model_name=\"117M\")"
      ],
      "metadata": {
        "id": "nD2U90gRUT30",
        "colab": {
          "base_uri": "https://localhost:8080/"
        },
        "outputId": "97e9da2d-390d-4b5e-8733-7e1997d15777"
      },
      "execution_count": null,
      "outputs": [
        {
          "output_type": "stream",
          "name": "stderr",
          "text": [
            "Fetching checkpoint: 1.05Mit [00:00, 282Mit/s]                                                      \n",
            "Fetching encoder.json: 1.05Mit [00:01, 572kit/s]\n",
            "Fetching hparams.json: 1.05Mit [00:00, 333Mit/s]                                                    \n",
            "Fetching model.ckpt.data-00000-of-00001: 498Mit [01:20, 6.17Mit/s]                                  \n",
            "Fetching model.ckpt.index: 1.05Mit [00:00, 361Mit/s]                                                \n",
            "Fetching model.ckpt.meta: 1.05Mit [00:01, 733kit/s]\n",
            "Fetching vocab.bpe: 1.05Mit [00:01, 735kit/s]\n"
          ]
        }
      ]
    },
    {
      "cell_type": "code",
      "source": [
        "gpt2.mount_gdrive()"
      ],
      "metadata": {
        "colab": {
          "base_uri": "https://localhost:8080/"
        },
        "id": "JyL4d9yZg1iT",
        "outputId": "ad308c34-e4b9-4d02-f1ec-83d775b1e638"
      },
      "execution_count": null,
      "outputs": [
        {
          "output_type": "stream",
          "name": "stdout",
          "text": [
            "Mounted at /content/drive\n"
          ]
        }
      ]
    },
    {
      "cell_type": "code",
      "source": [
        "file_name = \"input-text-mini.txt\""
      ],
      "metadata": {
        "id": "F6D_Xc9Xg3xJ"
      },
      "execution_count": null,
      "outputs": []
    },
    {
      "cell_type": "code",
      "source": [
        "gpt2.copy_file_from_gdrive(file_name)"
      ],
      "metadata": {
        "id": "SPBAT4b8g9u_"
      },
      "execution_count": null,
      "outputs": []
    },
    {
      "cell_type": "code",
      "source": [
        "sess = gpt2.start_tf_sess()\n",
        "\n",
        "gpt2.finetune(sess,\n",
        "              dataset=file_name,\n",
        "              model_name='117M',\n",
        "              steps=1000,\n",
        "              restore_from='fresh',\n",
        "              run_name='run1',\n",
        "              print_every=10,\n",
        "              sample_every=200,\n",
        "              save_every=200\n",
        "              )"
      ],
      "metadata": {
        "colab": {
          "base_uri": "https://localhost:8080/"
        },
        "id": "k_k_nqIFhAt7",
        "outputId": "93758b41-27bf-4f7f-d907-44dc78e4538d"
      },
      "execution_count": null,
      "outputs": [
        {
          "output_type": "stream",
          "name": "stdout",
          "text": [
            "Loading checkpoint models/117M/model.ckpt\n",
            "Loading dataset...\n"
          ]
        },
        {
          "output_type": "stream",
          "name": "stderr",
          "text": [
            "100%|██████████| 1/1 [00:50<00:00, 50.79s/it]\n"
          ]
        },
        {
          "output_type": "stream",
          "name": "stdout",
          "text": [
            "dataset has 14490117 tokens\n",
            "Training...\n",
            "[10 | 25.55] loss=3.26 avg=3.26\n",
            "[20 | 46.14] loss=2.59 avg=2.92\n",
            "[30 | 66.90] loss=2.85 avg=2.90\n",
            "[40 | 87.85] loss=2.56 avg=2.81\n",
            "[50 | 108.91] loss=2.40 avg=2.73\n",
            "[60 | 130.09] loss=2.24 avg=2.65\n",
            "[70 | 151.43] loss=2.31 avg=2.60\n",
            "[80 | 172.92] loss=2.29 avg=2.56\n",
            "[90 | 194.37] loss=2.21 avg=2.52\n",
            "[100 | 215.87] loss=2.11 avg=2.48\n",
            "[110 | 237.42] loss=2.29 avg=2.46\n",
            "[120 | 258.99] loss=2.07 avg=2.42\n",
            "[130 | 280.57] loss=1.74 avg=2.37\n",
            "[140 | 302.24] loss=2.24 avg=2.36\n",
            "[150 | 323.91] loss=2.10 avg=2.34\n",
            "[160 | 345.59] loss=1.98 avg=2.32\n",
            "[170 | 367.29] loss=1.76 avg=2.28\n",
            "[180 | 389.02] loss=1.90 avg=2.26\n",
            "[190 | 410.74] loss=1.89 avg=2.24\n",
            "[200 | 432.50] loss=1.97 avg=2.22\n",
            "Saving checkpoint/run1/model-200\n",
            "======== SAMPLE 1 ========\n",
            " int - <PAR> pt - 3.5 * ptt - 42.8 inr ( pt ) - 3.0 <PAR> <PAR> ck ( cpk ) - 6.1 * <PAR> gen2 - 37 % <PAR> mcv - 90 % <PAR> plt ct - 99 % <PAR> <PAR> labs - positive ct ct scan - inr<|endoftext|>\n",
            "<|startoftext|>admission date : [ 2140/9/9 ] discharge date : [ <H> F <G> 76 <A> nan <E> <D> <P> <M> <T> <L> = <|endoftext|>\n",
            "<|startoftext|>admission date : [ 2190/7/4 ] discharge date : [ <H> F <G> 76 <A> nan <E> <D> <P> <M> <T> <L> = admission date : [ 2148/1/3 ] discharge date : [ 2148/1/7 ] <PAR> <PAR> <PAR> <PAR> service : <PAR> <PAR> <PAR> chief complaint : chest pain <PAR> <PAR> history of present illness : ms [ known lastname ] is a 52 - year - old male with a history at [ hospital1156 ] for <PAR> coronary artery bypass grafting he was <PAR> struck by a fall and presented with shortness of breath <PAR> and decreased strength at rest , and in the intensive care unit <PAR> <PAR> <PAR> he was diagnosed with left arm weakness but was transferred to the <PAR> intensive care unit in utero for a right arm <PAR> weakness , and he was found to have no hemodialysis <PAR> <PAR> <PAR> after he was transferred from his apartment , he was taken in for <PAR> thoracic surgery and was given 2 cm bandages <PAR> the two had a large blood titer in the thoracic spine and <PAR> were treated by x - ray which showed a large amount of fluid in , a few <PAR> cm fluid were also taken but it was very difficult to <PAR> assess the fluid level <PAR> <PAR> no further details of the patient 's status remained <PAR> unclear after transfer here , and his home is <PAR> a 35 - year - old woman <PAR> <PAR> patient was admitted to cardiac surgery on <PAR> [ 2148/1/7 ] , and was able to work in a <PAR> facility the patient had no further complications <PAR> due to that he was found to have an increased <PAR> titer in the right thoracic spine <PAR> <PAR> <PAR> past medical history : <PAR> 1 coronary artery ( previous to myocardial infarction , ) <PAR> 2 pericarditis with ct scan <PAR> 3 chronic upper extremity <PAR> 4 status post surgery for left anterior <PAR> tibial sprain in [ 2148/1/27 ] <PAR> 5 htn status <PAR> <PAR> <PAR> medications on admission : <PAR> 1 lipitor 2 - 3 mg lopressor 3 mg tylenol 4.25 mg lopressor <PAR> 4 aspirin 75 mg coumadin 2.5 mg iv iv lopressor <PAR> <PAR> brief hospital course : <PAR> 1 he suffered from a right lung <PAR> stroke that severely limited his mobility , and he required 1 - 2 episodes <PAR> of his left foot amputation his foot was placed on the <PAR> floor 2 his right foot was placed on the floor in utero <PAR> <PAR> hospital course : <PAR> 1 this he developed chest pain <PAR> pt was started on lopressor <PAR> pt remained on morphine and lopressor and continued his <PAR> sedation medication for pain in his pain center <PAR> ( he had a <PAR> 2.5 cm titer in the right thoracic spine that was <PAR> taken away , <PAR> which showed multiple small lymphocytes , <PAR> and cells in the right thoracic spine that was <PAR> then treated with a x - ray of the thoracic spine , which showed two<|endoftext|>\n",
            "<|startoftext|>admission date : [ 2138/5/8 ] discharge date : [ <H> M <G> 62 <A> nan <E> <D> <P> <M> <T> <L> = <|endoftext|>\n",
            "<|startoftext|>admission date : [ 2158/4/29 ] <PAR> <PAR> <PAR> admission date : [\n",
            "\n",
            "[210 | 469.71] loss=2.13 avg=2.22\n",
            "[220 | 491.37] loss=2.00 avg=2.21\n",
            "[230 | 513.06] loss=2.26 avg=2.21\n",
            "[240 | 534.79] loss=1.94 avg=2.20\n",
            "[250 | 556.54] loss=1.62 avg=2.17\n",
            "[260 | 578.30] loss=2.17 avg=2.17\n",
            "[270 | 600.06] loss=1.78 avg=2.15\n",
            "[280 | 621.84] loss=1.49 avg=2.13\n",
            "[290 | 643.61] loss=1.63 avg=2.11\n",
            "[300 | 665.36] loss=1.77 avg=2.09\n",
            "[310 | 687.13] loss=1.70 avg=2.08\n",
            "[320 | 708.91] loss=1.79 avg=2.07\n",
            "[330 | 730.70] loss=1.73 avg=2.06\n",
            "[340 | 752.50] loss=1.79 avg=2.05\n",
            "[350 | 774.29] loss=1.63 avg=2.03\n",
            "[360 | 796.05] loss=1.49 avg=2.01\n",
            "[370 | 817.81] loss=1.74 avg=2.01\n",
            "[380 | 839.59] loss=1.63 avg=1.99\n",
            "[390 | 861.36] loss=1.79 avg=1.99\n",
            "[400 | 883.14] loss=1.64 avg=1.98\n",
            "Saving checkpoint/run1/model-400\n"
          ]
        },
        {
          "output_type": "stream",
          "name": "stderr",
          "text": [
            "WARNING:tensorflow:From /usr/local/lib/python3.7/dist-packages/tensorflow/python/training/saver.py:1068: remove_checkpoint (from tensorflow.python.training.checkpoint_management) is deprecated and will be removed in a future version.\n",
            "Instructions for updating:\n",
            "Use standard file APIs to delete files with this prefix.\n"
          ]
        },
        {
          "output_type": "stream",
          "name": "stdout",
          "text": [
            "======== SAMPLE 1 ========\n",
            " family : d / c x 23 y / o <PAR> <PAR> in the emergency department in stable condition <PAR> physical therapy was consulted <PAR> <PAR> medications : <PAR> 1 metformin sulfate 1 gram , 0.5 ml nph <PAR> 2 zantac 150 mg p o twice daily <PAR> 3 lipitor 20 mg p o daily <PAR> 4 colace 100 mg p o twice daily <PAR> 5 prednisone 20 mg p o once daily <PAR> 6 lipitor 5 to 10 mg p o three times daily <PAR> 7 tylenol 60 mg p o q 4 to 7 p m. as needed <PAR> 8 metformin xl 100 mg p o q 6 to 8 p m. as needed <PAR> 9 prednisone 25 mg po q 4 to 7 p m. <PAR> 10 lipitor 5 mg p o twice daily prn <PAR> 11 colace 100 gram q p r.n <PAR> 12 zantac 50 mg p o q 4 to 6 p m. prn <PAR> 13 lipitor 10 mg p o q 4 to 6 p m. prn <PAR> 14 colace 100 mg p o q 4 to 6 p m. prn <PAR> 15 prednisone 150 mg p o q o.d <PAR> 16 nevirapine 2 tablets p o q 6 <PAR> b i.d , prn and d / c <PAR> 17 pantoprazole 20 mg po q d <PAR> 18 zantac 50 mg p o q q 4 to 6 p m. prn <PAR> 19 lipitor 5 grams po q 4 to 6 p m. prn <PAR> 20 colace 10 mg p o twice as needed as a last dose prn <PAR> 21 colace 75 mg p o q q 4 to 6 p m. prn <PAR> 22 colace 100 mg p o q 4 to 6 p m. prn <PAR> 23 colace 25 mg p o twice as needed on a daily <PAR> regimen as pta q 4 to 6 p m. and q 7 p m. prn <PAR> 24 colace 100 mg p o twice as needed as a last dose prn <PAR> 25 colace 75 mg p o two times as needed as a last dose prn <PAR> <PAR> discharge diagnosis : <PAR> 1 severe lue s / p - ing in the right calf <PAR> 2 htn <PAR> 3 tach <PAR> <PAR> medications on admission : atenolol 5 , zantac 150 , propanol 60 , colace 150 <PAR> p i.d , colace 100 mg p o q 4 to 6 p m. prn , prednisone , tylenol 40 <PAR> mg p o q 4 t i.d , lipitor 10 mg p o q 4 q h.n <PAR> <PAR> discharge disposition : packed : [ facility [ location ( un ) ] 75 ] <PAR> <PAR> [ first name11 ( name pattern1 ) ] [ last name ( namepattern1 ) 1858 ] initials : [ last name ( namepattern4 ) 634 ] <PAR> <PAR> [ first name11 ( name pattern1 ) ] [ initials ( namepattern4 ) ] m d [ md number ( 1 ) 1259 ] <PAR> <PAR> dictated by : [ last name ( namepattern1 ) 974 ] <PAR> medquist36 <PAR> d : [ 2117/1/25 ] 08 : 51 : 21 <PAR> t : [ 2117/1/26 ] 05 : 19 : 11 <PAR> job # : [ job number ] <PAR> <PAR> <PAR><|endoftext|>\n",
            "<|startoftext|>admission date : [ 2105/1/13 ] discharge date : [ <H> M <G> 66 <A> nan <E> <D> <P> <M> <T> <L> = <|endoftext|>\n",
            "<|startoftext|>admission date : [ 2105/1/13 ] discharge date : <PAR> <PAR> <PAR> date of birth : [ 2102/1/13 ] sex : m <PAR> <PAR> service : medicine <PAR> <PAR> allergies : <PAR> patient recorded as having no known allergies to drugs <PAR> <PAR> attending : [ first name3 ( lf ) 1125 ] <PAR> chief complaint : <PAR> s / p cabg from mri <PAR> <PAR> <PAR> major surgical or invasive procedure : <PAR> cardiac catheterization <PAR> <PAR> <PAR> history of present illness : this is a 72 year old man with a <PAR> history of alcohol\n",
            "\n",
            "[410 | 918.89] loss=1.64 avg=1.97\n",
            "[420 | 940.59] loss=1.77 avg=1.96\n",
            "[430 | 962.35] loss=1.65 avg=1.95\n",
            "[440 | 984.10] loss=1.88 avg=1.95\n",
            "[450 | 1005.85] loss=1.59 avg=1.94\n",
            "[460 | 1027.62] loss=1.77 avg=1.94\n",
            "[470 | 1049.39] loss=1.72 avg=1.93\n",
            "[480 | 1071.17] loss=1.69 avg=1.92\n",
            "[490 | 1092.95] loss=1.37 avg=1.91\n",
            "[500 | 1114.72] loss=1.16 avg=1.89\n",
            "[510 | 1136.50] loss=1.72 avg=1.89\n",
            "[520 | 1158.28] loss=1.71 avg=1.88\n",
            "[530 | 1180.10] loss=1.83 avg=1.88\n",
            "[540 | 1201.88] loss=1.73 avg=1.88\n",
            "[550 | 1223.65] loss=1.76 avg=1.87\n",
            "[560 | 1245.44] loss=1.77 avg=1.87\n",
            "[570 | 1267.22] loss=1.90 avg=1.87\n",
            "[580 | 1288.99] loss=1.82 avg=1.87\n",
            "[590 | 1310.75] loss=1.62 avg=1.87\n",
            "[600 | 1332.50] loss=1.76 avg=1.86\n",
            "Saving checkpoint/run1/model-600\n",
            "======== SAMPLE 1 ========\n",
            " <PAR> and was not <E> <PAR> [ 2109/11/8 ] 17 : 15am blood ck - mb - 8 po2 - 65 * pco2 - 32 * ph - 7.14 * calhco3 - 20 <PAR> [ 2109/7/30 ] 06 : 20pm blood ck - mb - 3 * mb indx - 0.03 amylase - 0.01 <PAR> amylase - 0.02 <PAR> [ 2109/10/3 ] 05 : 05am blood pt - 14.7 * ptt - 40.7 * inr ( pt ) - 1.2 * <PAR> [ 2109/11/16 ] 01 : 00am blood wbc - 20.0 * rbc - 4.39 hgb - 9.3 * hct - 21.9 * <PAR> mcv - 93 mch - 29.8 mchc - 30.4 <PAR> rdw - 12.7 <PAR> [ 2109/11/8 ] 17 : 15am blood plt count - 181 <PAR> [ 2109/7/30 ] 06 : 20pm blood plt count - 167 * # <PAR> <PAR> [ 2109/10/3 ] 04 : 03pm blood wbc - 18.0 * rbc - 4.39 hgb - 8.5 * angi - based <PAR> [ 2109/9/28 ] 03 : 45pm blood pt - 15.8 ptt - 54.6 inr ( pt ) - 1.2 * <PAR> [ 2109/10/3 ] 04 : 03pm blood pt - 15.9 * ptt - 43.4 * inr ( pt ) - 1.1 * <PAR> [ 2109/9/28 ] 03 : 45pm blood plt count - 153 <PAR> [ 2109/10/3 ] 04 : 03pm blood glucose - 101 urean - 3 * creat - 7.3 * # na - 143 * k - 3.12 * <PAR> cl - 112 chk - 35 * hco3 - 23 angap - 14 <PAR> [ 2109/11/7 ] 11 : 10 pm blood ck ( cpk ) - 28 * <PAR> [ 2109/9/28 ] 03 : 45pm blood ck - mb - 2 * mb indx - 15.4 * <PAR> [ 2109/9/16 ] 01 : 02am blood ck - mb - 2 * <PAR> [ 2109/10/3 ] 11 : 10 pm blood cxr - neg <PAR> <PAR> [ 2109/11/13 ] 05 : 11 am blood tpn - 0 - 21 100k - 4.30 <PAR> [ 2109/10/1 ] 03 : 25am blood mrsa - positive <PAR> [ 2109/10/1 ] 03 : 25am blood lipase - 35 <PAR> [ 2109/10/1 ] 06 : 15am blood type - art * wbc - 18.7 * rbc - 4.39 * hgb - 8.9 * alk phos - 88 <PAR> total co2 - 33 * base xs - 3 * <PAR> [ 2109/10/1 ] 03 : 25am blood ck - mb - 4 <PAR> [ 2109/10/1 ] 03 : 25am blood ck ( cpk ) - 50 * <PAR> [ 2109/10/4 ] 04 : 35am blood ck ( cpk ) - 11 <PAR> [ 2109/10/5 ] 04 : 50am blood ck - mb - neg * [ 4 - 27 ]<|endoftext|>\n",
            "<|startoftext|>admission date : [ 2154/6/18 ] discharge date : [ <H> F <G> 70 <A> nan <E> <D> <P> <M> <T> <L> = <|endoftext|>\n",
            "<|startoftext|>admission date : [ 2131/6/18 ] discharge date : [ <H> F <G> 74 <A> nan <E> <D> <P> <M> <T> <L> = admission date : [ 2191/10/10 ] discharge date : [ 2191/11/8 ] <PAR> <PAR> date of birth : [ 2048/9/2 ] sex : m <PAR> <PAR> service : [ hospital1 ] firm <PAR> <PAR> chief complaint : fever ( temperature 98.3 <PAR> degrees fahrenheit ) resuscitation attempt , [ 3 - 3 ] , hospital - ck <PAR> <PAR> history of the present\n",
            "\n",
            "[610 | 1368.02] loss=1.80 avg=1.86\n",
            "[620 | 1389.75] loss=1.75 avg=1.86\n",
            "[630 | 1411.46] loss=1.56 avg=1.85\n",
            "[640 | 1433.17] loss=1.63 avg=1.85\n",
            "[650 | 1454.89] loss=2.04 avg=1.85\n",
            "[660 | 1476.63] loss=1.59 avg=1.85\n",
            "[670 | 1498.38] loss=1.79 avg=1.85\n",
            "[680 | 1520.15] loss=1.69 avg=1.84\n",
            "[690 | 1541.95] loss=1.54 avg=1.84\n",
            "[700 | 1563.72] loss=1.65 avg=1.83\n",
            "[710 | 1585.48] loss=1.59 avg=1.83\n",
            "[720 | 1607.27] loss=1.64 avg=1.83\n",
            "[730 | 1629.03] loss=1.74 avg=1.82\n",
            "[740 | 1650.80] loss=1.55 avg=1.82\n",
            "[750 | 1672.58] loss=1.64 avg=1.81\n",
            "[760 | 1694.36] loss=1.76 avg=1.81\n",
            "[770 | 1716.14] loss=1.84 avg=1.81\n",
            "[780 | 1737.93] loss=1.61 avg=1.81\n",
            "[790 | 1759.71] loss=1.61 avg=1.81\n",
            "[800 | 1781.52] loss=1.59 avg=1.80\n",
            "Saving checkpoint/run1/model-800\n",
            "======== SAMPLE 1 ========\n",
            " also transferred to [ hospital6 2032 ] on hd pt was given aspirin and ivf , and was then transferred to csru <PAR> upon arrival to surgery , he had a hct of 35.8 with an icd of 26.2 <PAR> with a lmca of 24 in vt <PAR> initial hct was 37.9 with a cva of 34.7 with a dpi of 6.6 his <PAR> esh was noted to be mildly hypokalemic , but was stable he was <PAR> transferred here to csru on hd with ekgs / [ 2023 ] and a wkx of 9 <PAR> he was noted to be diuretic with troponids of 22 - 23.7 and <PAR> he had a hct of 12.5 to 12.9 he had hct drops to 7.6 to 7.3 , and then 0.3 <PAR> from 1.6 up to 3.0 to 1.4 and then 2.6 from 0 to 2.7 <PAR> on discharge he had an icd at [ hospital1 190 ] and a cva of 27.9 with a hct of 33.7 <PAR> with a dpi of 20.4 with a lmca of 26.2 he had a cxr of 12 with a bicuspid <PAR> bnzorectal , and a trabecular rash <PAR> <PAR> he was also noted to have a lca of 24 ( lmca had ctrop <PAR> negative ) after transfer here he returned to the or was noted to <PAR> have dyspnea without n / v <PAR> <PAR> while in ed , he was afebrile and hypotensive with hypoxemia the <PAR> micu course was nonfocal after his hd he received hsx and <PAR> was transitioned to prednisone 4 mg once daily <PAR> <PAR> he did not have any complaints of any complications from his <PAR> home o2s <PAR> <PAR> he was continued on intravenous lasix , ceftriaxone , and was <PAR> extubated and transferred to the ccu after he was discharged <PAR> overnight , but did have a hct drop from 2 to 1 on arrival back <PAR> to the or <PAR> <PAR> past medical history : <PAR> 1 hypercholesterolemia <PAR> 2 a fib - 1 in [ 2119 ] <PAR> 3 chf ( ef 40 % ) <PAR> 4 hypothyroid <PAR> 5 hyperlipidemia <PAR> 6 diabetes <PAR> 7 dm <PAR> 8 status post cri ( baseline glucose of 36 's ) <PAR> 9 hypertension <PAR> 10 asthma <PAR> 11 anxiety <PAR> 12 history of right eye damage <PAR> <PAR> medications : <PAR> 1 atanazole 1 mg p o twice a day ( this dose in the <PAR> morning and then in the evening ) <PAR> 2 protonix <PAR> 3 albuterol <PAR> 4 lopressor <PAR> 5 zantac <PAR> 6 diflucan 500 mg p o twice a day <PAR> 7 clonidine <PAR> 8 amiodarone <PAR> 9 <PAR> <PAR> social history : this woman walks only a few miles and works <PAR> as a teacher her daughter is very involved with the study <PAR> activities , her family denies alcohol use and she has no <PAR> pets <PAR> <PAR> allergies : no known drug allergies <PAR> <PAR> social history : this was divorced she is a widow who does not <PAR> live alone and used to work full time on the job she has an <PAR> extensive history of tobacco abuse , including quit smoking <PAR> for two years she also smoked at least 3 - 4 packs per day <PAR> <PAR> she is a distant relative of her who is working as a medical <PAR> consultant <PAR> <PAR> physical exam : on presentation to the icu , she had a temperature of [ 98 ] to 115.6 hr 54 <PAR> bp 92 - 98/40 - 64 r 15 o2sat 97 % ra <PAR> blood pressure was 93/58 / 92 systolic <PAR> with systolic murmur heart was regular rate and rhythm <PAR> normal rhythm with no m / r , no murmurs lungs had a clear <PAR> air and increased breath sounds abdomen was soft , nontender , <PAR> positive bowel sounds and no masses extremities and extremities were <PAR> warm , no cyanosis , clubbing or edema no thyromegaly skin <PAR> was warm and dry no erythema extremities were\n",
            "\n",
            "[810 | 1816.92] loss=1.77 avg=1.80\n",
            "[820 | 1838.68] loss=1.12 avg=1.79\n",
            "[830 | 1860.43] loss=1.80 avg=1.79\n",
            "[840 | 1882.18] loss=1.59 avg=1.79\n",
            "[850 | 1903.92] loss=1.55 avg=1.78\n",
            "[860 | 1925.67] loss=1.68 avg=1.78\n",
            "[870 | 1947.43] loss=1.83 avg=1.78\n",
            "[880 | 1969.20] loss=1.67 avg=1.78\n",
            "[890 | 1991.00] loss=1.85 avg=1.78\n",
            "[900 | 2012.78] loss=1.61 avg=1.78\n",
            "[910 | 2034.56] loss=1.41 avg=1.77\n",
            "[920 | 2056.38] loss=1.45 avg=1.77\n",
            "[930 | 2078.16] loss=1.69 avg=1.77\n",
            "[940 | 2099.92] loss=1.38 avg=1.76\n",
            "[950 | 2121.68] loss=1.73 avg=1.76\n",
            "[960 | 2143.46] loss=1.53 avg=1.75\n",
            "[970 | 2165.25] loss=1.74 avg=1.75\n",
            "[980 | 2187.06] loss=1.59 avg=1.75\n",
            "[990 | 2208.86] loss=1.58 avg=1.75\n",
            "[1000 | 2230.66] loss=1.54 avg=1.75\n",
            "Saving checkpoint/run1/model-1000\n"
          ]
        }
      ]
    },
    {
      "cell_type": "code",
      "source": [
        "gpt2.copy_checkpoint_to_gdrive(run_name='run1')"
      ],
      "metadata": {
        "id": "IFbPvzKPjQj1"
      },
      "execution_count": null,
      "outputs": []
    },
    {
      "cell_type": "code",
      "source": [],
      "metadata": {
        "id": "Xx5yApiutioO"
      },
      "execution_count": null,
      "outputs": []
    }
  ]
}